{
 "cells": [
  {
   "cell_type": "code",
   "execution_count": 16,
   "metadata": {
    "collapsed": true,
    "execution": {
     "iopub.execute_input": "2020-08-31T10:01:23.233Z",
     "iopub.status.busy": "2020-08-31T10:01:23.220Z",
     "iopub.status.idle": "2020-08-31T10:08:55.399Z"
    }
   },
   "outputs": [],
   "source": [
    "import Pkg\n"
   ]
  },
  {
   "cell_type": "code",
   "execution_count": 19,
   "metadata": {},
   "outputs": [],
   "source": [
    "Pkg.instantiate()"
   ]
  },
  {
   "cell_type": "code",
   "execution_count": 25,
   "metadata": {
    "collapsed": true,
    "execution": {
     "iopub.execute_input": "2020-08-31T10:11:40.566Z",
     "iopub.status.busy": "2020-08-31T10:11:40.539Z",
     "iopub.status.idle": "2020-08-31T10:11:42.906Z"
    },
    "jupyter": {
     "outputs_hidden": false,
     "source_hidden": false
    },
    "nteract": {
     "transient": {
      "deleting": false
     }
    },
    "tags": []
   },
   "outputs": [
    {
     "output_type": "stream",
     "name": "stderr",
     "text": "\u001b[32m\u001b[1m  Resolving\u001b[22m\u001b[39m package versions...\n\u001b[32m\u001b[1m   Updating\u001b[22m\u001b[39m `C:\\Users\\e1077802\\.julia\\environments\\v1.4\\Project.toml`\n \u001b[90m [a93c6f00]\u001b[39m\u001b[92m + DataFrames v0.21.7\u001b[39m\n\u001b[32m\u001b[1m   Updating\u001b[22m\u001b[39m `C:\\Users\\e1077802\\.julia\\environments\\v1.4\\Manifest.toml`\n\u001b[90m [no changes]\u001b[39m\n"
    }
   ],
   "source": [
    "Pkg.add(\"DataFrames\")\n",
    "#Pkg.add(\"MLDataUtils\")\n",
    "#Pkg.add(\"DataStructures\")"
   ]
  },
  {
   "cell_type": "code",
   "execution_count": 3,
   "metadata": {
    "collapsed": true,
    "execution": {
     "iopub.execute_input": "2020-08-31T10:31:51.728Z",
     "iopub.status.busy": "2020-08-31T10:31:51.709Z",
     "iopub.status.idle": "2020-08-31T10:32:00.873Z"
    },
    "jupyter": {
     "outputs_hidden": false,
     "source_hidden": false
    },
    "nteract": {
     "transient": {
      "deleting": false
     }
    },
    "tags": []
   },
   "outputs": [
    {
     "output_type": "stream",
     "name": "stderr",
     "text": "\u001b[32m\u001b[1m   Updating\u001b[22m\u001b[39m registry at `C:\\Users\\e1077802\\.julia\\registries\\General`\n\u001b[?25l\u001b[32m\u001b[1m   Updating\u001b[22m\u001b[39m git-repo `https://github.com/JuliaRegistries/General.git`\n    \u001b[36m\u001b[1mFetching:\u001b[22m\u001b[39m [========================================>]  99.8 %    \u001b[36m\u001b[1mFetching:\u001b[22m\u001b[39m [========================================>]  99.9 %\u001b[2K\u001b[?25h\u001b[32m\u001b[1m  Resolving\u001b[22m\u001b[39m package versions...\n\u001b[32m\u001b[1m  Installed\u001b[22m\u001b[39m IniFile ── v0.5.0\n\u001b[32m\u001b[1m  Installed\u001b[22m\u001b[39m DataDeps ─ v0.7.2\n\u001b[32m\u001b[1m  Installed\u001b[22m\u001b[39m HTTP ───── v0.8.17\n\u001b[32m\u001b[1m   Updating\u001b[22m\u001b[39m `C:\\Users\\e1077802\\.julia\\environments\\v1.4\\Project.toml`\n \u001b[90m [124859b0]\u001b[39m\u001b[92m + DataDeps v0.7.2\u001b[39m\n\u001b[32m\u001b[1m   Updating\u001b[22m\u001b[39m `C:\\Users\\e1077802\\.julia\\environments\\v1.4\\Manifest.toml`\n \u001b[90m [124859b0]\u001b[39m\u001b[92m + DataDeps v0.7.2\u001b[39m\n \u001b[90m [cd3eb016]\u001b[39m\u001b[92m + HTTP v0.8.17\u001b[39m\n \u001b[90m [83e8ac13]\u001b[39m\u001b[92m + IniFile v0.5.0\u001b[39m\n \u001b[90m [189a3867]\u001b[39m\u001b[92m + Reexport v0.2.0\u001b[39m\n"
    }
   ],
   "source": [
    "#Pkg.add(\"DataDeps\")"
   ]
  },
  {
   "cell_type": "code",
   "execution_count": 16,
   "metadata": {},
   "outputs": [
    {
     "name": "stdout",
     "output_type": "stream",
     "text": [
      "done\n"
     ]
    }
   ],
   "source": [
    "image_extensions=[\".tiff\", \".jpeg\", \".png\", \".gif\", \".jpg\"]\n",
    "file=\".//..//nbs//test.png\"\n",
    "if any(map(ext->occursin(ext, file), image_extensions))\n",
    "    println(\"done\")\n",
    "end"
   ]
  },
  {
   "cell_type": "code",
   "execution_count": 35,
   "metadata": {},
   "outputs": [
    {
     "output_type": "execute_result",
     "data": {
      "text/plain": "\"C:\\\\Users\\\\e1077802\\\\AppData\\\\Local\\\\Programs\\\\Microsoft VS Code\""
     },
     "metadata": {},
     "execution_count": 35
    }
   ],
   "source": [
    "pwd()"
   ]
  },
  {
   "cell_type": "code",
   "execution_count": 30,
   "metadata": {
    "collapsed": true,
    "execution": {
     "iopub.execute_input": "2020-08-31T13:54:05.081Z",
     "iopub.status.busy": "2020-08-31T13:54:05.065Z",
     "iopub.status.idle": "2020-08-31T13:54:05.125Z"
    },
    "jupyter": {
     "outputs_hidden": false,
     "source_hidden": false
    },
    "nteract": {
     "transient": {
      "deleting": false
     }
    },
    "tags": []
   },
   "outputs": [],
   "source": [
    "import DataDeps: unpack_cmd, unpack"
   ]
  },
  {
   "cell_type": "code",
   "execution_count": 37,
   "metadata": {
    "execution": {
     "iopub.execute_input": "2020-08-31T13:54:19.807Z",
     "iopub.status.busy": "2020-08-31T13:54:19.790Z",
     "iopub.status.idle": "2020-08-31T13:54:19.846Z"
    },
    "jupyter": {
     "outputs_hidden": false,
     "source_hidden": false
    },
    "nteract": {
     "transient": {
      "deleting": false
     }
    }
   },
   "outputs": [
    {
     "output_type": "execute_result",
     "data": {
      "text/plain": "unpack (generic function with 1 method)"
     },
     "metadata": {},
     "execution_count": 37
    }
   ],
   "source": [
    "#=\n",
    "tobe exported to datautils.jl\n",
    "=#\n",
    "\n",
    "#TODO: not returning extracted path\n",
    "#TODO: performance is slow and sometimes progress is not visible\n",
    "#TODO: tests pending\n",
    "function unpack(f; filepath=pwd(), keep_originals=false)\n",
    "    run(unpack_cmd(f, filepath, last(splitext(f)), last(splitext(first(splitext(f))))))\n",
    "    rm(\"pax_global_header\"; force=true)\n",
    "    !keep_originals && rm(f)\n",
    "end"
   ]
  },
  {
   "cell_type": "code",
   "execution_count": 40,
   "metadata": {
    "collapsed": true,
    "execution": {
     "iopub.execute_input": "2020-08-31T13:54:23.532Z",
     "iopub.status.busy": "2020-08-31T13:54:23.471Z",
     "iopub.status.idle": "2020-08-31T13:57:56.619Z"
    },
    "jupyter": {
     "outputs_hidden": false,
     "source_hidden": false
    },
    "nteract": {
     "transient": {
      "deleting": false
     }
    },
    "tags": []
   },
   "outputs": [
    {
     "output_type": "stream",
     "name": "stdout",
     "text": "\n7-Zip 19.00 (x64) : Copyright (c) 1999-2018 Igor Pavlov : 2019-02-21\n\n\nExtracting archive: \n--\nPath = \nType = tar\nCode Page = UTF-8\n\nEverything is Ok\n\nFolders: 23\nFiles: 70000\nSize:       17497829\nCompressed: 35860480\n"
    }
   ],
   "source": [
    "unpack(\"C:\\\\Projects\\\\open-projects\\\\FastAI.jl\\\\nbs\\\\mnist_png.tgz\", filepath=\"C:\\\\Projects\\\\open-projects\\\\FastAI.jl\\\\nbs\\\\\")"
   ]
  },
  {
   "cell_type": "markdown",
   "metadata": {
    "nteract": {
     "transient": {
      "deleting": false
     }
    }
   },
   "source": [
    "Fetch the path and get the image files. \n",
    ">It would be helpful if the path is returned by the unpack function"
   ]
  },
  {
   "cell_type": "code",
   "execution_count": 17,
   "metadata": {
    "tags": []
   },
   "outputs": [
    {
     "output_type": "stream",
     "name": "stderr",
     "text": "\u001b[32m\u001b[1m   Updating\u001b[22m\u001b[39m `C:\\Users\\e1077802\\.julia\\environments\\v1.4\\Project.toml`\n\u001b[90m [no changes]\u001b[39m\n\u001b[32m\u001b[1m   Updating\u001b[22m\u001b[39m `C:\\Users\\e1077802\\.julia\\environments\\v1.4\\Manifest.toml`\n\u001b[90m [no changes]\u001b[39m\n"
    }
   ],
   "source": [
    "Pkg.resolve()"
   ]
  },
  {
   "cell_type": "code",
   "execution_count": 92,
   "metadata": {
    "scrolled": false,
    "tags": []
   },
   "outputs": [
    {
     "output_type": "execute_result",
     "data": {
      "text/plain": "decode (generic function with 3 methods)"
     },
     "metadata": {},
     "execution_count": 92
    }
   ],
   "source": [
    "include(\"c:\\\\Projects\\\\open-projects\\\\FastAI.jl\\\\src\\\\transforms.jl\")"
   ]
  },
  {
   "cell_type": "code",
   "execution_count": 82,
   "metadata": {},
   "outputs": [
    {
     "output_type": "execute_result",
     "data": {
      "text/plain": "\"C:\\\\Projects\\\\open-projects\\\\FastAI.jl\\\\nbs\\\\mnist_png\""
     },
     "metadata": {},
     "execution_count": 82
    }
   ],
   "source": [
    "#direc=pwd()\n",
    "datasetPath = \"C:\\\\Projects\\\\open-projects\\\\FastAI.jl\\\\nbs\\\\mnist_png\"\n",
    "datasetPath"
   ]
  },
  {
   "cell_type": "code",
   "execution_count": 58,
   "metadata": {},
   "outputs": [
    {
     "output_type": "execute_result",
     "data": {
      "text/plain": "2-element Array{String,1}:\n \"C:\\\\Projects\\\\open-projects\\\\FastAI.jl\\\\nbs\\\\mnist_png\\\\testing\"\n \"C:\\\\Projects\\\\open-projects\\\\FastAI.jl\\\\nbs\\\\mnist_png\\\\training\""
     },
     "metadata": {},
     "execution_count": 58
    }
   ],
   "source": [
    "files = [file for file in readdir(datasetPath, join=true)]\n",
    "files"
   ]
  },
  {
   "cell_type": "code",
   "execution_count": 15,
   "metadata": {},
   "outputs": [
    {
     "data": {
      "text/plain": [
       "70000-element Array{Any,1}:\n",
       " \".\\\\..\\\\nbs\\\\mnist_png\\\\testing\\\\0\\\\10.png\"\n",
       " \".\\\\..\\\\nbs\\\\mnist_png\\\\testing\\\\0\\\\1001.png\"\n",
       " \".\\\\..\\\\nbs\\\\mnist_png\\\\testing\\\\0\\\\1009.png\"\n",
       " \".\\\\..\\\\nbs\\\\mnist_png\\\\testing\\\\0\\\\101.png\"\n",
       " \".\\\\..\\\\nbs\\\\mnist_png\\\\testing\\\\0\\\\1034.png\"\n",
       " \".\\\\..\\\\nbs\\\\mnist_png\\\\testing\\\\0\\\\1047.png\"\n",
       " \".\\\\..\\\\nbs\\\\mnist_png\\\\testing\\\\0\\\\1061.png\"\n",
       " \".\\\\..\\\\nbs\\\\mnist_png\\\\testing\\\\0\\\\1084.png\"\n",
       " \".\\\\..\\\\nbs\\\\mnist_png\\\\testing\\\\0\\\\1094.png\"\n",
       " \".\\\\..\\\\nbs\\\\mnist_png\\\\testing\\\\0\\\\1121.png\"\n",
       " \".\\\\..\\\\nbs\\\\mnist_png\\\\testing\\\\0\\\\1148.png\"\n",
       " \".\\\\..\\\\nbs\\\\mnist_png\\\\testing\\\\0\\\\1154.png\"\n",
       " \".\\\\..\\\\nbs\\\\mnist_png\\\\testing\\\\0\\\\1176.png\"\n",
       " ⋮\n",
       " \".\\\\..\\\\nbs\\\\mnist_png\\\\training\\\\9\\\\9876.png\"\n",
       " \".\\\\..\\\\nbs\\\\mnist_png\\\\training\\\\9\\\\9889.png\"\n",
       " \".\\\\..\\\\nbs\\\\mnist_png\\\\training\\\\9\\\\9893.png\"\n",
       " \".\\\\..\\\\nbs\\\\mnist_png\\\\training\\\\9\\\\9896.png\"\n",
       " \".\\\\..\\\\nbs\\\\mnist_png\\\\training\\\\9\\\\9933.png\"\n",
       " \".\\\\..\\\\nbs\\\\mnist_png\\\\training\\\\9\\\\9938.png\"\n",
       " \".\\\\..\\\\nbs\\\\mnist_png\\\\training\\\\9\\\\9941.png\"\n",
       " \".\\\\..\\\\nbs\\\\mnist_png\\\\training\\\\9\\\\9949.png\"\n",
       " \".\\\\..\\\\nbs\\\\mnist_png\\\\training\\\\9\\\\9950.png\"\n",
       " \".\\\\..\\\\nbs\\\\mnist_png\\\\training\\\\9\\\\9968.png\"\n",
       " \".\\\\..\\\\nbs\\\\mnist_png\\\\training\\\\9\\\\9969.png\"\n",
       " \".\\\\..\\\\nbs\\\\mnist_png\\\\training\\\\9\\\\9998.png\""
      ]
     },
     "execution_count": 15,
     "metadata": {},
     "output_type": "execute_result"
    }
   ],
   "source": [
    "file_names=[]\n",
    "for (root, dirs, files) in walkdir(path)\n",
    "           for file in files\n",
    "               push!(file_names, joinpath(root,file))\n",
    "           end\n",
    "end\n",
    "file_names"
   ]
  },
  {
   "cell_type": "code",
   "execution_count": 18,
   "metadata": {},
   "outputs": [
    {
     "data": {
      "text/plain": [
       "\".\\\\..\\\\nbs\\\\mnist_png\\\\testing\\\\0\\\\10.png\""
      ]
     },
     "execution_count": 18,
     "metadata": {},
     "output_type": "execute_result"
    }
   ],
   "source": [
    "file_names[1]"
   ]
  },
  {
   "cell_type": "code",
   "execution_count": 62,
   "metadata": {
    "execution": {
     "iopub.execute_input": "2020-08-31T14:21:24.242Z",
     "iopub.status.busy": "2020-08-31T14:21:24.218Z",
     "iopub.status.idle": "2020-08-31T14:21:24.277Z"
    },
    "jupyter": {
     "outputs_hidden": false,
     "source_hidden": false
    },
    "nteract": {
     "transient": {
      "deleting": false
     }
    }
   },
   "outputs": [
    {
     "output_type": "execute_result",
     "data": {
      "text/plain": "70000-element Array{String,1}:\n \"C:\\\\Projects\\\\open-projects\\\\FastAI.jl\\\\nbs\\\\mnist_png\\\\testing\\\\0\\\\10.png\"\n \"C:\\\\Projects\\\\open-projects\\\\FastAI.jl\\\\nbs\\\\mnist_png\\\\testing\\\\0\\\\1001.png\"\n \"C:\\\\Projects\\\\open-projects\\\\FastAI.jl\\\\nbs\\\\mnist_png\\\\testing\\\\0\\\\1009.png\"\n \"C:\\\\Projects\\\\open-projects\\\\FastAI.jl\\\\nbs\\\\mnist_png\\\\testing\\\\0\\\\101.png\"\n \"C:\\\\Projects\\\\open-projects\\\\FastAI.jl\\\\nbs\\\\mnist_png\\\\testing\\\\0\\\\1034.png\"\n \"C:\\\\Projects\\\\open-projects\\\\FastAI.jl\\\\nbs\\\\mnist_png\\\\testing\\\\0\\\\1047.png\"\n \"C:\\\\Projects\\\\open-projects\\\\FastAI.jl\\\\nbs\\\\mnist_png\\\\testing\\\\0\\\\1061.png\"\n \"C:\\\\Projects\\\\open-projects\\\\FastAI.jl\\\\nbs\\\\mnist_png\\\\testing\\\\0\\\\1084.png\"\n \"C:\\\\Projects\\\\open-projects\\\\FastAI.jl\\\\nbs\\\\mnist_png\\\\testing\\\\0\\\\1094.png\"\n \"C:\\\\Projects\\\\open-projects\\\\FastAI.jl\\\\nbs\\\\mnist_png\\\\testing\\\\0\\\\1121.png\"\n \"C:\\\\Projects\\\\open-projects\\\\FastAI.jl\\\\nbs\\\\mnist_png\\\\testing\\\\0\\\\1148.png\"\n \"C:\\\\Projects\\\\open-projects\\\\FastAI.jl\\\\nbs\\\\mnist_png\\\\testing\\\\0\\\\1154.png\"\n \"C:\\\\Projects\\\\open-projects\\\\FastAI.jl\\\\nbs\\\\mnist_png\\\\testing\\\\0\\\\1176.png\"\n ⋮\n \"C:\\\\Projects\\\\open-projects\\\\FastAI.jl\\\\nbs\\\\mnist_png\\\\training\\\\9\\\\9876.png\"\n \"C:\\\\Projects\\\\open-projects\\\\FastAI.jl\\\\nbs\\\\mnist_png\\\\training\\\\9\\\\9889.png\"\n \"C:\\\\Projects\\\\open-projects\\\\FastAI.jl\\\\nbs\\\\mnist_png\\\\training\\\\9\\\\9893.png\"\n \"C:\\\\Projects\\\\open-projects\\\\FastAI.jl\\\\nbs\\\\mnist_png\\\\training\\\\9\\\\9896.png\"\n \"C:\\\\Projects\\\\open-projects\\\\FastAI.jl\\\\nbs\\\\mnist_png\\\\training\\\\9\\\\9933.png\"\n \"C:\\\\Projects\\\\open-projects\\\\FastAI.jl\\\\nbs\\\\mnist_png\\\\training\\\\9\\\\9938.png\"\n \"C:\\\\Projects\\\\open-projects\\\\FastAI.jl\\\\nbs\\\\mnist_png\\\\training\\\\9\\\\9941.png\"\n \"C:\\\\Projects\\\\open-projects\\\\FastAI.jl\\\\nbs\\\\mnist_png\\\\training\\\\9\\\\9949.png\"\n \"C:\\\\Projects\\\\open-projects\\\\FastAI.jl\\\\nbs\\\\mnist_png\\\\training\\\\9\\\\9950.png\"\n \"C:\\\\Projects\\\\open-projects\\\\FastAI.jl\\\\nbs\\\\mnist_png\\\\training\\\\9\\\\9968.png\"\n \"C:\\\\Projects\\\\open-projects\\\\FastAI.jl\\\\nbs\\\\mnist_png\\\\training\\\\9\\\\9969.png\"\n \"C:\\\\Projects\\\\open-projects\\\\FastAI.jl\\\\nbs\\\\mnist_png\\\\training\\\\9\\\\9998.png\""
     },
     "metadata": {},
     "execution_count": 62
    }
   ],
   "source": [
    "items=get_image_files(datasetPath)"
   ]
  },
  {
   "cell_type": "code",
   "execution_count": 63,
   "metadata": {
    "jupyter": {
     "outputs_hidden": false,
     "source_hidden": false
    },
    "nteract": {
     "transient": {
      "deleting": false
     }
    }
   },
   "outputs": [
    {
     "output_type": "execute_result",
     "data": {
      "text/plain": "70000"
     },
     "metadata": {},
     "execution_count": 63
    }
   ],
   "source": [
    "length(items)"
   ]
  },
  {
   "cell_type": "code",
   "execution_count": 73,
   "metadata": {},
   "outputs": [
    {
     "output_type": "execute_result",
     "data": {
      "text/plain": "\"..\\\\..\\\\..\\\\..\\\\..\\\\..\\\\Projects\\\\open-projects\\\\FastAI.jl\\\\nbs\\\\mnist_png\""
     },
     "metadata": {},
     "execution_count": 73
    }
   ],
   "source": [
    "relpath(\"C:\\\\Projects\\\\open-projects\\\\FastAI.jl\\\\nbs\\\\mnist_png\")"
   ]
  },
  {
   "cell_type": "markdown",
   "metadata": {},
   "source": [
    "Next we split the folders into test and train as per the parent folder names.\n",
    "\n",
    ">If there is somethign like \"training\" or \"testing\" anywhere find it."
   ]
  },
  {
   "cell_type": "code",
   "execution_count": 93,
   "metadata": {},
   "outputs": [
    {
     "output_type": "execute_result",
     "data": {
      "text/plain": "4-element Array{String,1}:\n \"C:\\\\Projects\\\\open-projects\\\\FastAI.jl\\\\nbs\\\\mnist_png\\\\training\\\\0\\\\1.png\"\n \"C:\\\\Projects\\\\open-projects\\\\FastAI.jl\\\\nbs\\\\mnist_png\\\\training\\\\0\\\\1000.png\"\n \"C:\\\\Projects\\\\open-projects\\\\FastAI.jl\\\\nbs\\\\mnist_png\\\\training\\\\0\\\\10005.png\"\n \"C:\\\\Projects\\\\open-projects\\\\FastAI.jl\\\\nbs\\\\mnist_png\\\\training\\\\0\\\\10010.png\""
     },
     "metadata": {},
     "execution_count": 93
    }
   ],
   "source": [
    "splitter= GrandparentSplitter(\"training\", \"testing\")\n",
    "train_idxs= splitter[1](items)\n",
    "test_idxs= splitter[2](items)\n",
    "\n",
    "train_idxs[1:4]"
   ]
  },
  {
   "cell_type": "code",
   "execution_count": null,
   "metadata": {},
   "outputs": [],
   "source": []
  }
 ],
 "metadata": {
  "kernelspec": {
   "display_name": "Julia 1.4.2",
   "language": "julia",
   "name": "julia-1.4"
  },
  "language_info": {
   "file_extension": ".jl",
   "mimetype": "application/julia",
   "name": "julia",
   "version": "3.7.6-final"
  },
  "nteract": {
   "version": "0.24.1"
  }
 },
 "nbformat": 4,
 "nbformat_minor": 4
}